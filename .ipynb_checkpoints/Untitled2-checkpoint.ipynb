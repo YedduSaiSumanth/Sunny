{
 "cells": [
  {
   "cell_type": "code",
   "execution_count": null,
   "metadata": {},
   "outputs": [],
   "source": [
    "count=0\n",
    "avg=0\n",
    "sam=0\n",
    "with open(\"folder/marks.txt\",'r')as f:\n",
    "    s=(f.read())\n",
    "l=list(s.split())\n",
    "print(l)\n",
    "for i in l:\n",
    "    sam=sam+int(i)\n",
    "    count+=1\n",
    "print(\"the average is:\",(sam/count))"
   ]
  },
  {
   "cell_type": "code",
   "execution_count": null,
   "metadata": {},
   "outputs": [],
   "source": [
    "l2=[]\n",
    "with open(\"folder/marks.txt\",'r')as f:\n",
    "    s=(f.read())\n",
    "l=list(s.split())\n",
    "print(l)\n",
    "for i in l:\n",
    "    if(int(i)>=28):\n",
    "        l2.append(i)\n",
    "print(l2)\n",
    "print(\"the pass percentage is:\",((len(l2)/len(l))*100))\n",
    "print(\"the fail percentage is:\",abs((((len(l2)/len(l))*100))-100))\n",
    "print(l2.count(max(l2)))\n",
    "print(l2.count(min(l2)))"
   ]
  },
  {
   "cell_type": "code",
   "execution_count": null,
   "metadata": {},
   "outputs": [],
   "source": [
    "def asdf(*ghj):\n",
    "    for i in ghj:\n",
    "        print(i)\n",
    "asdf(1,2,3,'pradeep','reddy')"
   ]
  },
  {
   "cell_type": "code",
   "execution_count": null,
   "metadata": {},
   "outputs": [],
   "source": [
    "d={}\n",
    "d[1]='asdf'\n",
    "print(d)\n",
    "d.popitem()\n",
    "print(d)"
   ]
  },
  {
   "cell_type": "code",
   "execution_count": null,
   "metadata": {},
   "outputs": [],
   "source": [
    "d={1:'a',2:'b',3:'c'}\n",
    "print(d)\n",
    "print(d.setdefault(4))\n",
    "print(d.setdefault(4,'j'))\n",
    "print(d)"
   ]
  },
  {
   "cell_type": "code",
   "execution_count": null,
   "metadata": {},
   "outputs": [],
   "source": [
    "set={1,2,3}\n",
    "print(type(set))\n",
    "print(dir(set))\n"
   ]
  },
  {
   "cell_type": "code",
   "execution_count": null,
   "metadata": {},
   "outputs": [],
   "source": [
    "set={1,2,3}\n",
    "for i in set:\n",
    "    print(i)\n",
    "print(1 in set)\n",
    "    \n",
    "\n"
   ]
  },
  {
   "cell_type": "code",
   "execution_count": null,
   "metadata": {},
   "outputs": [],
   "source": [
    "set={1,2,3}\n",
    "set.add(4)\n",
    "print(set)\n",
    "set.update({5,6,7,8,9,10,11,12,'b'})\n",
    "print(set)"
   ]
  },
  {
   "cell_type": "code",
   "execution_count": null,
   "metadata": {},
   "outputs": [],
   "source": [
    "set.pop()\n",
    "print(set)\n",
    "print(set)\n",
    "set.discard('5')\n",
    "print(set)"
   ]
  },
  {
   "cell_type": "code",
   "execution_count": null,
   "metadata": {},
   "outputs": [],
   "source": [
    "l={1,2,3,4,5,6}\n",
    "p={1,5,6,3}\n",
    "print(l.difference(p))\n"
   ]
  },
  {
   "cell_type": "code",
   "execution_count": null,
   "metadata": {},
   "outputs": [],
   "source": [
    "l={1,2,3,4,5,6}\n",
    "p={1,5,6,3}\n",
    "l.difference_update(p)\n",
    "print(l)"
   ]
  },
  {
   "cell_type": "code",
   "execution_count": null,
   "metadata": {},
   "outputs": [],
   "source": [
    "l={1,2,3,4,5,6}\n",
    "p={1,5,6,3}\n",
    "l.intersection(p)\n",
    "print(l)"
   ]
  },
  {
   "cell_type": "code",
   "execution_count": null,
   "metadata": {},
   "outputs": [],
   "source": [
    "l={1,2,3,4,5,6}\n",
    "p={1,5,6,3}\n",
    "l.intersection_update(p)\n",
    "print(l)"
   ]
  },
  {
   "cell_type": "code",
   "execution_count": null,
   "metadata": {},
   "outputs": [],
   "source": [
    "l={1,2,3,4,5,6}\n",
    "p={1,5,6,3}\n",
    "l.symmetric_difference(p)\n",
    "print(l)\n",
    "p.symmetric_difference(p)\n",
    "print(p)"
   ]
  },
  {
   "cell_type": "code",
   "execution_count": null,
   "metadata": {},
   "outputs": [],
   "source": [
    "l={1,2,3,4,5,6}\n",
    "p={1,5,6,3}\n",
    "l.symmetric_difference_update(p)\n",
    "print(l)\n",
    "p.symmetric_difference_update(l)\n",
    "print(p)"
   ]
  },
  {
   "cell_type": "code",
   "execution_count": null,
   "metadata": {},
   "outputs": [],
   "source": [
    "l={1,2,3,4,5,6}\n",
    "p={1,5,6,3}\n",
    "p.symmetric_difference_update(l)\n",
    "print(p)"
   ]
  },
  {
   "cell_type": "code",
   "execution_count": null,
   "metadata": {},
   "outputs": [],
   "source": [
    "l={1,2,3,4,5,6}\n",
    "p={1,2}\n",
    "print(p.issubset(l))"
   ]
  },
  {
   "cell_type": "code",
   "execution_count": null,
   "metadata": {
    "scrolled": true
   },
   "outputs": [],
   "source": [
    "n=int(input(\"enter\"))\n",
    "for i in range(n+1):\n",
    "    j=i\n",
    "    while(j>0):\n",
    "        print(\"*\",end='')\n",
    "        j=j-1\n",
    "    print(\"\\n\")\n",
    "for i in range(n):\n",
    "    for j in range(n-1):\n",
    "        print(\"*\",end='')\n",
    "        j=j-1\n",
    "    n=n-1\n",
    "    print(\"\\n\")"
   ]
  },
  {
   "cell_type": "markdown",
   "metadata": {},
   "source": [
    "### oopl\n",
    " -class\n",
    "  -collection of variables and methods\n",
    "  -syntax \n",
    "   -class classname:\n",
    "       '''documentation'''\n",
    "       variables\n",
    "       methods\n",
    "       \n",
    "      -rules\n",
    "       -should be capital\n",
    "       -doesnt allow spaces\n",
    "       -doesnt allow keywords\n",
    "       \n",
    "   -object\n",
    "   "
   ]
  },
  {
   "cell_type": "code",
   "execution_count": 3,
   "metadata": {},
   "outputs": [
    {
     "name": "stdout",
     "output_type": "stream",
     "text": [
      "enter3\n",
      "the factorial is 6\n"
     ]
    }
   ],
   "source": [
    "class hi:\n",
    "    facto=1\n",
    "    i=1\n",
    "    def fact(self,num):\n",
    "        for i in range(1,num+1):\n",
    "            self.facto=self.facto*i\n",
    "        print(\"the factorial is\",self.facto)\n",
    "obj=hi()\n",
    "n=int(input(\"enter\"))\n",
    "obj.fact(n)\n"
   ]
  },
  {
   "cell_type": "code",
   "execution_count": 6,
   "metadata": {},
   "outputs": [
    {
     "name": "stdout",
     "output_type": "stream",
     "text": [
      "enter6\n",
      "perfect\n"
     ]
    }
   ],
   "source": [
    "class hi:\n",
    "    def perfect(self,num):\n",
    "        sam=0\n",
    "        for i in range(1,num):\n",
    "            if(num%i==0):\n",
    "                sam+=i\n",
    "        if(sam==num):\n",
    "            print(\"perfect\")\n",
    "        else:\n",
    "            print(\"not perfect\")\n",
    "obj=hi()\n",
    "n=int(input(\"enter\"))\n",
    "obj.perfect(n)\n"
   ]
  },
  {
   "cell_type": "code",
   "execution_count": 4,
   "metadata": {},
   "outputs": [
    {
     "name": "stdout",
     "output_type": "stream",
     "text": [
      "enter7\n",
      "prime\n"
     ]
    }
   ],
   "source": [
    "class hi:\n",
    "    def perfect(self,num):\n",
    "        sam=0\n",
    "        for i in range(2,num+1):\n",
    "            if(num%i==0):\n",
    "                sam+=1\n",
    "        if(sam==1):\n",
    "            print(\"prime\")\n",
    "        else:\n",
    "            print(\"not prime\")\n",
    "obj=hi()\n",
    "n=int(input(\"enter\"))\n",
    "obj.perfect(n)\n"
   ]
  },
  {
   "cell_type": "code",
   "execution_count": 9,
   "metadata": {},
   "outputs": [
    {
     "name": "stdout",
     "output_type": "stream",
     "text": [
      "enter66\n",
      "the inputed value is: 66\n"
     ]
    }
   ],
   "source": [
    "class d:\n",
    "    def __init__(self):\n",
    "        self.a=int(input(\"enter\"))\n",
    "        print(\"the inputed value is:\",self.a)\n",
    "\n",
    "obj=d()\n"
   ]
  },
  {
   "cell_type": "code",
   "execution_count": 11,
   "metadata": {},
   "outputs": [
    {
     "name": "stdout",
     "output_type": "stream",
     "text": [
      "enter5\n",
      "prime\n",
      "asdf\n"
     ]
    }
   ],
   "source": [
    "class hi:\n",
    "    def perfect(self,num):\n",
    "        sam=0\n",
    "        for i in range(2,num+1):\n",
    "            if(num%i==0):\n",
    "                sam+=1\n",
    "        if(sam==1):\n",
    "            print(\"prime\")\n",
    "        else:\n",
    "            print(\"not prime\")\n",
    "\n",
    "class g(hi):\n",
    "    def f(self):\n",
    "        print(\"asdf\")\n",
    "\n",
    "obj=g()\n",
    "n=int(input(\"enter\"))\n",
    "obj.perfect(n)\n",
    "obj.f()"
   ]
  },
  {
   "cell_type": "code",
   "execution_count": null,
   "metadata": {},
   "outputs": [],
   "source": []
  }
 ],
 "metadata": {
  "kernelspec": {
   "display_name": "Python 3",
   "language": "python",
   "name": "python3"
  },
  "language_info": {
   "codemirror_mode": {
    "name": "ipython",
    "version": 3
   },
   "file_extension": ".py",
   "mimetype": "text/x-python",
   "name": "python",
   "nbconvert_exporter": "python",
   "pygments_lexer": "ipython3",
   "version": "3.8.5"
  }
 },
 "nbformat": 4,
 "nbformat_minor": 4
}
