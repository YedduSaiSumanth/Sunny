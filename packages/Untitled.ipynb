{
 "cells": [
  {
   "cell_type": "markdown",
   "metadata": {},
   "source": [
    "### packages and modules\n",
    "# package\n",
    "   ## collection of modules\n",
    "   ## modules\n",
    "   ### python files contains functions,objects and classes\n",
    "   #### access using import\n",
    "   ### packages\n",
    "   #### built in\n",
    "   ##### pandas numpy matplot lib regular expression\n",
    "   ##### user defined\n",
    "   #### defined for our purpose\n",
    "   #### modules\n",
    "   #### built in\n",
    "   #### math time calendar random"
   ]
  },
  {
   "cell_type": "code",
   "execution_count": 1,
   "metadata": {},
   "outputs": [
    {
     "name": "stdout",
     "output_type": "stream",
     "text": [
      "['__doc__', '__loader__', '__name__', '__package__', '__spec__', 'acos', 'acosh', 'asin', 'asinh', 'atan', 'atan2', 'atanh', 'ceil', 'comb', 'copysign', 'cos', 'cosh', 'degrees', 'dist', 'e', 'erf', 'erfc', 'exp', 'expm1', 'fabs', 'factorial', 'floor', 'fmod', 'frexp', 'fsum', 'gamma', 'gcd', 'hypot', 'inf', 'isclose', 'isfinite', 'isinf', 'isnan', 'isqrt', 'ldexp', 'lgamma', 'log', 'log10', 'log1p', 'log2', 'modf', 'nan', 'perm', 'pi', 'pow', 'prod', 'radians', 'remainder', 'sin', 'sinh', 'sqrt', 'tan', 'tanh', 'tau', 'trunc'] "
     ]
    }
   ],
   "source": [
    "import math\n",
    "print(dir(math),end=' ')"
   ]
  },
  {
   "cell_type": "code",
   "execution_count": 4,
   "metadata": {},
   "outputs": [
    {
     "name": "stdout",
     "output_type": "stream",
     "text": [
      "enter the number u want to get facorial5\n",
      "the factorial is 120\n"
     ]
    }
   ],
   "source": [
    "import math as m\n",
    "n=int(input(\"enter the number u want to get facorial\"))\n",
    "print(\"the factorial is\",m.factorial(n))"
   ]
  },
  {
   "cell_type": "code",
   "execution_count": 5,
   "metadata": {},
   "outputs": [
    {
     "name": "stdout",
     "output_type": "stream",
     "text": [
      "enter the base7\n",
      "enter the power2\n",
      "the value is 49.0\n"
     ]
    }
   ],
   "source": [
    "import math as m\n",
    "n=int(input(\"enter the base\"))\n",
    "p=int(input(\"enter the power\"))\n",
    "print(\"the value is\",m.pow(n,p))"
   ]
  },
  {
   "cell_type": "code",
   "execution_count": 6,
   "metadata": {},
   "outputs": [
    {
     "name": "stdout",
     "output_type": "stream",
     "text": [
      "27828744\n"
     ]
    }
   ],
   "source": [
    "import random as r\n",
    "print(r.randint(9,89789889))"
   ]
  },
  {
   "cell_type": "code",
   "execution_count": 8,
   "metadata": {},
   "outputs": [
    {
     "name": "stdout",
     "output_type": "stream",
     "text": [
      "6\n"
     ]
    }
   ],
   "source": [
    "import random as r\n",
    "print(r.randrange(1,10))"
   ]
  },
  {
   "cell_type": "code",
   "execution_count": 11,
   "metadata": {},
   "outputs": [
    {
     "name": "stdout",
     "output_type": "stream",
     "text": [
      "u\n"
     ]
    }
   ],
   "source": [
    "import random as r\n",
    "s='sumanth'\n",
    "print(r.choice(s))"
   ]
  },
  {
   "cell_type": "code",
   "execution_count": 12,
   "metadata": {},
   "outputs": [
    {
     "name": "stdout",
     "output_type": "stream",
     "text": [
      "None\n"
     ]
    }
   ],
   "source": [
    "import random as r\n",
    "l=['sys','sysysy',1,2]\n",
    "print(r.shuffle(l))"
   ]
  },
  {
   "cell_type": "code",
   "execution_count": 13,
   "metadata": {},
   "outputs": [
    {
     "name": "stdout",
     "output_type": "stream",
     "text": [
      "['Calendar', 'EPOCH', 'FRIDAY', 'February', 'HTMLCalendar', 'IllegalMonthError', 'IllegalWeekdayError', 'January', 'LocaleHTMLCalendar', 'LocaleTextCalendar', 'MONDAY', 'SATURDAY', 'SUNDAY', 'THURSDAY', 'TUESDAY', 'TextCalendar', 'WEDNESDAY', '_EPOCH_ORD', '__all__', '__builtins__', '__cached__', '__doc__', '__file__', '__loader__', '__name__', '__package__', '__spec__', '_colwidth', '_locale', '_localized_day', '_localized_month', '_monthlen', '_nextmonth', '_prevmonth', '_spacing', 'c', 'calendar', 'datetime', 'day_abbr', 'day_name', 'different_locale', 'error', 'firstweekday', 'format', 'formatstring', 'isleap', 'leapdays', 'main', 'mdays', 'month', 'month_abbr', 'month_name', 'monthcalendar', 'monthrange', 'prcal', 'prmonth', 'prweek', 'repeat', 'setfirstweekday', 'sys', 'timegm', 'week', 'weekday', 'weekheader'] "
     ]
    }
   ],
   "source": [
    "import calendar as c\n",
    "print(dir(c),end=\" \")"
   ]
  },
  {
   "cell_type": "code",
   "execution_count": 15,
   "metadata": {},
   "outputs": [
    {
     "name": "stdout",
     "output_type": "stream",
     "text": [
      "True\n"
     ]
    }
   ],
   "source": [
    "import calendar as C\n",
    "print(C.isleap(2020))"
   ]
  },
  {
   "cell_type": "code",
   "execution_count": 3,
   "metadata": {},
   "outputs": [],
   "source": [
    "def sd(l):\n",
    "    g=[]\n",
    "    for i in l:\n",
    "l=[1,2,3,4,5,6,7]\n",
    "o=[1,2,3,5,7,]"
   ]
  },
  {
   "cell_type": "code",
   "execution_count": null,
   "metadata": {},
   "outputs": [],
   "source": [
    "from packages.module import sd\n",
    "\n",
    "l=[1,2,3,1,2,3,5,7]\n",
    "sd(l)"
   ]
  },
  {
   "cell_type": "code",
   "execution_count": null,
   "metadata": {},
   "outputs": [],
   "source": [
    "from packages.module import unique\n",
    "\n",
    "l=[1,2,3,1,2,3,5,7]\n",
    "unique(l)"
   ]
  },
  {
   "cell_type": "markdown",
   "metadata": {},
   "source": [
    "# regular expressions\n",
    "## builtin packages in python\n",
    "## used to match specific patterns\n",
    "### 3 functions\n",
    "### match\n",
    "###         * matches specific pattern\n",
    "### search\n",
    "####           *returns first while searching a character or a substring\n",
    "### findall\n",
    "####          *returns all possible occurance\n"
   ]
  },
  {
   "cell_type": "code",
   "execution_count": 6,
   "metadata": {},
   "outputs": [
    {
     "name": "stdout",
     "output_type": "stream",
     "text": [
      "['s']\n",
      "None\n"
     ]
    }
   ],
   "source": [
    "import re as r\n",
    "print(r.findall(\"s\",\"sumanth\"))\n",
    "print(r.search(\"p\",\"sumanth\"))"
   ]
  },
  {
   "cell_type": "raw",
   "metadata": {},
   "source": [
    "-^ --matches starting char\n",
    "-$ --matches end char\n",
    "-[0-9]\n",
    "-[a-z]\n",
    "-[A-Z]\n",
    "-[a-zA-Z]\n",
    "-[0-9]{4}\n",
    "- , -- MATCHES any character\n",
    "-{@} - matches special character"
   ]
  },
  {
   "cell_type": "code",
   "execution_count": 10,
   "metadata": {},
   "outputs": [
    {
     "name": "stdout",
     "output_type": "stream",
     "text": [
      "['2', '3']\n"
     ]
    }
   ],
   "source": [
    "import re as r\n",
    "k=\"sumanthnaidu 2 and 3\"\n",
    "print(r.findall(\"[0-9]\",k))"
   ]
  },
  {
   "cell_type": "code",
   "execution_count": null,
   "metadata": {},
   "outputs": [],
   "source": [
    "import re as r\n",
    "n=int(input(\"enter\"))\n",
    "b='^[+][9][1][6-9][0-9]{9}$'\n",
    "if(r.match(b,n)):\n",
    "    print(\"valid\")\n",
    "else:\n",
    "    print(\"not valid\")"
   ]
  },
  {
   "cell_type": "code",
   "execution_count": 2,
   "metadata": {},
   "outputs": [
    {
     "name": "stdout",
     "output_type": "stream",
     "text": [
      "enter emailsumanthyeddu30@gmail.com\n",
      "valid\n"
     ]
    }
   ],
   "source": [
    "import re\n",
    "n=input(\"enter email\")\n",
    "p=\"^[0-9a-z][0-9a-z_.]{6,30}[@][a-z]{5,10}[.][a-z]{2,5}$\"\n",
    "if(re.match(p,n)):\n",
    "    print(\"valid\")\n",
    "else:\n",
    "    print(\"not valid\")\n"
   ]
  },
  {
   "cell_type": "code",
   "execution_count": 4,
   "metadata": {},
   "outputs": [
    {
     "name": "stdout",
     "output_type": "stream",
     "text": [
      "entersumanth\n",
      "sumanth\n"
     ]
    }
   ],
   "source": [
    "n=input(\"enter\")\n",
    "f=open(\"Folder/demo.txt\",\"w\")\n",
    "f.write(n)\n",
    "f.close()\n",
    "f=open('Folder/demo.txt')\n",
    "s=f.read()\n",
    "print(s)"
   ]
  },
  {
   "cell_type": "code",
   "execution_count": 1,
   "metadata": {},
   "outputs": [
    {
     "name": "stdout",
     "output_type": "stream",
     "text": [
      "enterhlo\n",
      "hlo\n"
     ]
    }
   ],
   "source": [
    "n=input(\"enter\")\n",
    "with open(\"folder/dmm.txt\",\"w\")as info:\n",
    "    info.write(n)\n",
    "    \n",
    "with open(\"folder/dmm.txt\",\"r\")as info:\n",
    "    s=info.read()\n",
    "    print(s)"
   ]
  },
  {
   "cell_type": "code",
   "execution_count": 2,
   "metadata": {},
   "outputs": [
    {
     "name": "stdout",
     "output_type": "stream",
     "text": [
      "the character count is  7\n"
     ]
    }
   ],
   "source": [
    "with open('folder/demo.txt','r')as info:\n",
    "    s=info.read()\n",
    "count=0\n",
    "for i in s:\n",
    "    if(i.isalpha()):\n",
    "        count+=1\n",
    "print(\"the character count is \",count)"
   ]
  },
  {
   "cell_type": "code",
   "execution_count": 5,
   "metadata": {},
   "outputs": [
    {
     "name": "stdout",
     "output_type": "stream",
     "text": [
      "the character count is  24\n",
      "the world count is 4\n",
      "<class '_io.TextIOWrapper'>\n"
     ]
    }
   ],
   "source": [
    "with open('folder/demo.txt','r')as info:\n",
    "    s=info.read()\n",
    "count=0\n",
    "for i in s:\n",
    "    if(i.isalpha()):\n",
    "        count+=1\n",
    "print(\"the character count is \",count)\n",
    "\n",
    "l=list(s.split())\n",
    "print(\"the world count is\",len(l))\n",
    "\n",
    "print(type(info))"
   ]
  },
  {
   "cell_type": "code",
   "execution_count": 8,
   "metadata": {},
   "outputs": [
    {
     "name": "stdout",
     "output_type": "stream",
     "text": [
      "['python', 'file', 'life', 'go', 'to']\n"
     ]
    }
   ],
   "source": [
    "def sd(l):\n",
    "    g=[]\n",
    "    for i in l:\n",
    "        if(i in g):\n",
    "            continue\n",
    "        else:\n",
    "            g.append(i)\n",
    "    print(g)\n",
    "with open(\"folder/duplicate.txt\",\"r\")as info:\n",
    "     s=info.read()\n",
    "l=list(s.split())\n",
    "sd(l)"
   ]
  },
  {
   "cell_type": "code",
   "execution_count": 12,
   "metadata": {},
   "outputs": [
    {
     "name": "stdout",
     "output_type": "stream",
     "text": [
      "sai sumanth naidu\n",
      "{'s': 2, 'a': 3, 'i': 2, ' ': 2, 'u': 2, 'm': 1, 'n': 2, 't': 1, 'h': 1, 'd': 1}\n"
     ]
    }
   ],
   "source": [
    "i=0\n",
    "j=0\n",
    "d={}\n",
    "with open(\"folder/count.txt\",\"r\")as info:\n",
    "    s=info.read()\n",
    "print(s)\n",
    "for i in s:\n",
    "    for j in s:\n",
    "        if(i==j):\n",
    "            count+=1\n",
    "    d[i]=count\n",
    "    count=0\n",
    "print(d)"
   ]
  },
  {
   "cell_type": "code",
   "execution_count": 14,
   "metadata": {},
   "outputs": [
    {
     "name": "stdout",
     "output_type": "stream",
     "text": [
      "enter student count5\n",
      "enter lower range9\n",
      "enter upper range123\n"
     ]
    },
    {
     "ename": "TypeError",
     "evalue": "write() takes exactly one argument (2 given)",
     "output_type": "error",
     "traceback": [
      "\u001b[1;31m---------------------------------------------------------------------------\u001b[0m",
      "\u001b[1;31mTypeError\u001b[0m                                 Traceback (most recent call last)",
      "\u001b[1;32m<ipython-input-14-9f46e9cc0fbd>\u001b[0m in \u001b[0;36m<module>\u001b[1;34m\u001b[0m\n\u001b[0;32m      9\u001b[0m \u001b[0mlb\u001b[0m\u001b[1;33m=\u001b[0m\u001b[0mint\u001b[0m\u001b[1;33m(\u001b[0m\u001b[0minput\u001b[0m\u001b[1;33m(\u001b[0m\u001b[1;34m\"enter lower range\"\u001b[0m\u001b[1;33m)\u001b[0m\u001b[1;33m)\u001b[0m\u001b[1;33m\u001b[0m\u001b[1;33m\u001b[0m\u001b[0m\n\u001b[0;32m     10\u001b[0m \u001b[0mub\u001b[0m\u001b[1;33m=\u001b[0m\u001b[0mint\u001b[0m\u001b[1;33m(\u001b[0m\u001b[0minput\u001b[0m\u001b[1;33m(\u001b[0m\u001b[1;34m\"enter upper range\"\u001b[0m\u001b[1;33m)\u001b[0m\u001b[1;33m)\u001b[0m\u001b[1;33m\u001b[0m\u001b[1;33m\u001b[0m\u001b[0m\n\u001b[1;32m---> 11\u001b[1;33m \u001b[0mmarksgen\u001b[0m\u001b[1;33m(\u001b[0m\u001b[0mn\u001b[0m\u001b[1;33m,\u001b[0m\u001b[0mlb\u001b[0m\u001b[1;33m,\u001b[0m\u001b[0mub\u001b[0m\u001b[1;33m)\u001b[0m\u001b[1;33m\u001b[0m\u001b[1;33m\u001b[0m\u001b[0m\n\u001b[0m\u001b[0;32m     12\u001b[0m \u001b[1;33m\u001b[0m\u001b[0m\n",
      "\u001b[1;32m<ipython-input-14-9f46e9cc0fbd>\u001b[0m in \u001b[0;36mmarksgen\u001b[1;34m(n, lb, ub)\u001b[0m\n\u001b[0;32m      4\u001b[0m         \u001b[1;32mfor\u001b[0m \u001b[0mi\u001b[0m \u001b[1;32min\u001b[0m \u001b[0mrange\u001b[0m\u001b[1;33m(\u001b[0m\u001b[0mn\u001b[0m\u001b[1;33m)\u001b[0m\u001b[1;33m:\u001b[0m\u001b[1;33m\u001b[0m\u001b[1;33m\u001b[0m\u001b[0m\n\u001b[0;32m      5\u001b[0m             \u001b[0mr\u001b[0m\u001b[1;33m=\u001b[0m\u001b[0mrandint\u001b[0m\u001b[1;33m(\u001b[0m\u001b[0mlb\u001b[0m\u001b[1;33m,\u001b[0m\u001b[0mub\u001b[0m\u001b[1;33m)\u001b[0m\u001b[1;33m\u001b[0m\u001b[1;33m\u001b[0m\u001b[0m\n\u001b[1;32m----> 6\u001b[1;33m             \u001b[0mf\u001b[0m\u001b[1;33m.\u001b[0m\u001b[0mwrite\u001b[0m\u001b[1;33m(\u001b[0m\u001b[0mstr\u001b[0m\u001b[1;33m(\u001b[0m\u001b[0mr\u001b[0m\u001b[1;33m)\u001b[0m\u001b[1;33m,\u001b[0m\u001b[1;34m\"\\n\"\u001b[0m\u001b[1;33m)\u001b[0m\u001b[1;33m\u001b[0m\u001b[1;33m\u001b[0m\u001b[0m\n\u001b[0m\u001b[0;32m      7\u001b[0m     \u001b[1;32mreturn\u001b[0m\u001b[1;33m\u001b[0m\u001b[1;33m\u001b[0m\u001b[0m\n\u001b[0;32m      8\u001b[0m \u001b[0mn\u001b[0m\u001b[1;33m=\u001b[0m\u001b[0mint\u001b[0m\u001b[1;33m(\u001b[0m\u001b[0minput\u001b[0m\u001b[1;33m(\u001b[0m\u001b[1;34m\"enter student count\"\u001b[0m\u001b[1;33m)\u001b[0m\u001b[1;33m)\u001b[0m\u001b[1;33m\u001b[0m\u001b[1;33m\u001b[0m\u001b[0m\n",
      "\u001b[1;31mTypeError\u001b[0m: write() takes exactly one argument (2 given)"
     ]
    }
   ],
   "source": [
    "from random import randint\n",
    "def marksgen(n,lb,ub):\n",
    "    with open(\"folder/marks.txt\",'w')as f:\n",
    "        for i in range(n):\n",
    "            r=randint(lb,ub)\n",
    "            f.write(str(r),\"\\n\")\n",
    "    return\n",
    "n=int(input(\"enter student count\"))\n",
    "lb=int(input(\"enter lower range\"))\n",
    "ub=int(input(\"enter upper range\"))\n",
    "marksgen(n,lb,ub)\n",
    "                      "
   ]
  },
  {
   "cell_type": "code",
   "execution_count": null,
   "metadata": {},
   "outputs": [],
   "source": []
  }
 ],
 "metadata": {
  "kernelspec": {
   "display_name": "Python 3",
   "language": "python",
   "name": "python3"
  },
  "language_info": {
   "codemirror_mode": {
    "name": "ipython",
    "version": 3
   },
   "file_extension": ".py",
   "mimetype": "text/x-python",
   "name": "python",
   "nbconvert_exporter": "python",
   "pygments_lexer": "ipython3",
   "version": "3.8.5"
  }
 },
 "nbformat": 4,
 "nbformat_minor": 4
}
