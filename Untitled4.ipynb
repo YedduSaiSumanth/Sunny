{
 "cells": [
  {
   "cell_type": "raw",
   "metadata": {},
   "source": [
    "Numpy\n",
    "   - numerical python or numeric python\n",
    "   - numpy is a programming language that deals with multi dimensional\n",
    "     array and matrices\n",
    "   - especially for matrix multiplication and reshaping\n",
    "   - on top of that numpy is fast,tensorflow and scikit\n",
    "   "
   ]
  },
  {
   "cell_type": "raw",
   "metadata": {},
   "source": [
    "how to install numpy\n",
    "   . numpy is installed in anaconda"
   ]
  },
  {
   "cell_type": "code",
   "execution_count": null,
   "metadata": {},
   "outputs": [],
   "source": [
    "import numpy as n\n",
    "print(n.__version__)"
   ]
  },
  {
   "cell_type": "code",
   "execution_count": null,
   "metadata": {},
   "outputs": [],
   "source": [
    "import numpy as n\n",
    "print(n.array([2,4,6,8]))"
   ]
  },
  {
   "cell_type": "code",
   "execution_count": null,
   "metadata": {},
   "outputs": [],
   "source": [
    "import numpy as n\n",
    "print(n.array([[2,4,6,8],[1,2,3,4]]))"
   ]
  },
  {
   "cell_type": "code",
   "execution_count": null,
   "metadata": {},
   "outputs": [],
   "source": [
    "import numpy as n\n",
    "a=n.array([3,5,7,9])\n",
    "b=n.array([2,4,6,8])\n",
    "print(a+b)\n",
    "print(a-b)"
   ]
  },
  {
   "cell_type": "code",
   "execution_count": null,
   "metadata": {},
   "outputs": [],
   "source": [
    "import numpy as n\n",
    "a=n.array([3,5,7,9])\n",
    "b=n.array([2,4,6,8])\n",
    "print(a*b)\n",
    "print(a/b)\n",
    "print(a%b)"
   ]
  },
  {
   "cell_type": "code",
   "execution_count": null,
   "metadata": {},
   "outputs": [],
   "source": [
    "import numpy as n\n",
    "a=n.array([[1,2,3,4],[5,6,7,8]])\n",
    "print(n.shape(a))\n",
    "print(a.dtype)"
   ]
  },
  {
   "cell_type": "code",
   "execution_count": null,
   "metadata": {},
   "outputs": [],
   "source": [
    "import numpy as n\n",
    "b=n.array([[1.1,1.2,1.3,1.4],[2.1,2.2,2.3,2.4]])\n",
    "print(n.shape(b))\n",
    "print(b.dtype)"
   ]
  },
  {
   "cell_type": "code",
   "execution_count": null,
   "metadata": {},
   "outputs": [],
   "source": [
    "import numpy as n\n",
    "print(n.zeros((3,2),dtype=int))"
   ]
  },
  {
   "cell_type": "code",
   "execution_count": null,
   "metadata": {},
   "outputs": [],
   "source": [
    "import numpy as n\n",
    "print(n.ones((3,2),dtype=int))"
   ]
  },
  {
   "cell_type": "code",
   "execution_count": null,
   "metadata": {},
   "outputs": [],
   "source": [
    "import numpy as n\n",
    "a=n.array([[1,2,3,4],[6,7,8,9]])\n",
    "print(a)\n",
    "print(a.reshape((4,2)))"
   ]
  },
  {
   "cell_type": "code",
   "execution_count": null,
   "metadata": {},
   "outputs": [],
   "source": [
    "import numpy as n\n",
    "a=n.array([[1,2,3,4],[6,7,8,9]])\n",
    "print(a)\n",
    "print(a.flatten())"
   ]
  },
  {
   "cell_type": "code",
   "execution_count": null,
   "metadata": {},
   "outputs": [],
   "source": [
    "import numpy as n\n",
    "a=n.array([3,5,7,9])\n",
    "b=n.array([2,4,6,8])\n",
    "print(n.vstack((a)))\n",
    "print(n.hstack((a,b)))"
   ]
  },
  {
   "cell_type": "code",
   "execution_count": null,
   "metadata": {},
   "outputs": [],
   "source": [
    "import numpy as n\n",
    "a=n.array([3,5,7,9])\n",
    "a.std()"
   ]
  },
  {
   "cell_type": "code",
   "execution_count": null,
   "metadata": {},
   "outputs": [],
   "source": [
    "import numpy as n\n",
    "a=n.array([3,5,7,9])\n",
    "print(a)\n",
    "print(a.mean())\n",
    "print(n.median(a))\n",
    "print(n.mod(3,5))"
   ]
  },
  {
   "cell_type": "code",
   "execution_count": null,
   "metadata": {},
   "outputs": [],
   "source": [
    "import random\n",
    "import numpy as n\n",
    "d=n.random.randint(1,30,(3,3))\n",
    "print(d)"
   ]
  },
  {
   "cell_type": "code",
   "execution_count": null,
   "metadata": {},
   "outputs": [],
   "source": [
    "import random\n",
    "import numpy as n\n",
    "n.random.normal(5,4,10)"
   ]
  },
  {
   "cell_type": "code",
   "execution_count": null,
   "metadata": {},
   "outputs": [],
   "source": [
    "import random\n",
    "import numpy as n\n",
    "d=n.random.randint(1,30,(3,3))\n",
    "print(d)\n",
    "print(\"the max\",d.max())\n",
    "print(\"the min\",d.min())\n",
    "print(\"standard deviation\",d.std())\n",
    "print(\"mean\",a.mean())\n",
    "print(\"median\",n.median(a))\n",
    "print(\"mod\",n.mod(2,3))\n",
    "print(d.transpose())"
   ]
  },
  {
   "cell_type": "code",
   "execution_count": null,
   "metadata": {},
   "outputs": [],
   "source": [
    "import numpy\n",
    "print(numpy.eye(4,dtype=int))"
   ]
  },
  {
   "cell_type": "code",
   "execution_count": null,
   "metadata": {},
   "outputs": [],
   "source": [
    "import random\n",
    "import numpy as n\n",
    "b=n.array([])\n",
    "d=n.random.randint(1,30,(3,3))\n",
    "print(d)\n",
    "print(b.dot(d))"
   ]
  },
  {
   "cell_type": "code",
   "execution_count": null,
   "metadata": {},
   "outputs": [],
   "source": [
    "d=n.array([1,2,3,4])\n",
    "n.array([d,pow(d,4)])"
   ]
  },
  {
   "cell_type": "code",
   "execution_count": null,
   "metadata": {},
   "outputs": [],
   "source": [
    "a=n.repeat([1,2,3,4],3)\n",
    "print(a)"
   ]
  },
  {
   "cell_type": "code",
   "execution_count": null,
   "metadata": {},
   "outputs": [],
   "source": [
    "print(n.arange(1,11))"
   ]
  },
  {
   "cell_type": "code",
   "execution_count": null,
   "metadata": {},
   "outputs": [],
   "source": [
    "n.linspace(1,5,num=10)"
   ]
  },
  {
   "cell_type": "code",
   "execution_count": null,
   "metadata": {},
   "outputs": [],
   "source": [
    "n.linspace(1,5)"
   ]
  },
  {
   "cell_type": "code",
   "execution_count": null,
   "metadata": {},
   "outputs": [],
   "source": [
    "import numpy as n\n",
    "x=n.array([[1,2,3],[4,5,6]])\n",
    "print(x)\n",
    "#print(x[0])\n",
    "#print(x[1])\n",
    "print(x[:,1])"
   ]
  },
  {
   "cell_type": "raw",
   "metadata": {},
   "source": [
    "Pandas\n",
    " .pandas is a open source library that allow to perform\n",
    "  data manipulation(Series,DataFrames)\n",
    " .derived from PANel data\n",
    "\n",
    "Why use pandas\n",
    "    -to handle missing data\n",
    "    -efficient way to slice the data\n",
    "    -flexible way to merge,concentrate and reshape data\n",
    "   \n",
    "Data structures\n",
    "     SERIES\n",
    "     DATA FRAMES\n",
    "     \n",
    " Series\n",
    "    -it is in dimensional array\n",
    " \n",
    " Data frames\n",
    "    -it is two dimensional array"
   ]
  },
  {
   "cell_type": "code",
   "execution_count": 3,
   "metadata": {},
   "outputs": [
    {
     "name": "stdout",
     "output_type": "stream",
     "text": [
      "a    pradeep\n",
      "b    pradeep\n",
      "dtype: object\n"
     ]
    }
   ],
   "source": [
    "import pandas as p\n",
    "s='pradeep'\n",
    "print(p.Series(s,index=['a','b']))"
   ]
  },
  {
   "cell_type": "code",
   "execution_count": 5,
   "metadata": {},
   "outputs": [
    {
     "name": "stdout",
     "output_type": "stream",
     "text": [
      "0    a\n",
      "1    b\n",
      "2    c\n",
      "dtype: object\n"
     ]
    }
   ],
   "source": [
    "import pandas as p\n",
    "print(p.Series(['a','b','c']))"
   ]
  },
  {
   "cell_type": "code",
   "execution_count": 6,
   "metadata": {},
   "outputs": [
    {
     "name": "stdout",
     "output_type": "stream",
     "text": [
      "0    pradeep\n",
      "1         19\n",
      "2        cse\n",
      "3          1\n",
      "dtype: object\n"
     ]
    }
   ],
   "source": [
    "import pandas\n",
    "d=pandas.Series(['pradeep',19,'cse',1])\n",
    "print(d)"
   ]
  },
  {
   "cell_type": "code",
   "execution_count": 7,
   "metadata": {},
   "outputs": [
    {
     "name": "stdout",
     "output_type": "stream",
     "text": [
      "0    pradeep\n",
      "1         19\n",
      "2        cse\n",
      "dtype: object\n"
     ]
    }
   ],
   "source": [
    "print(d[:3])\n"
   ]
  },
  {
   "cell_type": "code",
   "execution_count": 9,
   "metadata": {},
   "outputs": [
    {
     "name": "stdout",
     "output_type": "stream",
     "text": [
      "[1, 4, 9, 16, 25, 36, 49, 64, 81]\n"
     ]
    }
   ],
   "source": [
    "l=[i**2 for i in range(1,10)]\n",
    "print(l)"
   ]
  },
  {
   "cell_type": "code",
   "execution_count": 12,
   "metadata": {},
   "outputs": [
    {
     "name": "stdout",
     "output_type": "stream",
     "text": [
      "4    a\n",
      "5    b\n",
      "6    c\n",
      "dtype: object\n"
     ]
    }
   ],
   "source": [
    "import pandas\n",
    "d={4:'a',5:'b',6:'c'}\n",
    "print(pandas.Series(d))\n"
   ]
  },
  {
   "cell_type": "code",
   "execution_count": 13,
   "metadata": {},
   "outputs": [
    {
     "name": "stdout",
     "output_type": "stream",
     "text": [
      "1    NaN\n",
      "2    NaN\n",
      "3    NaN\n",
      "dtype: object\n"
     ]
    }
   ],
   "source": [
    "import pandas\n",
    "d={4:'a',5:'b',6:'c'}\n",
    "print(pandas.Series(d,index=[1,2,3]))\n"
   ]
  },
  {
   "cell_type": "code",
   "execution_count": 15,
   "metadata": {},
   "outputs": [
    {
     "data": {
      "text/html": [
       "<div>\n",
       "<style scoped>\n",
       "    .dataframe tbody tr th:only-of-type {\n",
       "        vertical-align: middle;\n",
       "    }\n",
       "\n",
       "    .dataframe tbody tr th {\n",
       "        vertical-align: top;\n",
       "    }\n",
       "\n",
       "    .dataframe thead th {\n",
       "        text-align: right;\n",
       "    }\n",
       "</style>\n",
       "<table border=\"1\" class=\"dataframe\">\n",
       "  <thead>\n",
       "    <tr style=\"text-align: right;\">\n",
       "      <th></th>\n",
       "      <th>name</th>\n",
       "      <th>age</th>\n",
       "      <th>group</th>\n",
       "    </tr>\n",
       "  </thead>\n",
       "  <tbody>\n",
       "    <tr>\n",
       "      <th>0</th>\n",
       "      <td>vidhya</td>\n",
       "      <td>23</td>\n",
       "      <td>cse</td>\n",
       "    </tr>\n",
       "    <tr>\n",
       "      <th>1</th>\n",
       "      <td>archana</td>\n",
       "      <td>22</td>\n",
       "      <td>cse</td>\n",
       "    </tr>\n",
       "  </tbody>\n",
       "</table>\n",
       "</div>"
      ],
      "text/plain": [
       "      name  age group\n",
       "0   vidhya   23   cse\n",
       "1  archana   22   cse"
      ]
     },
     "execution_count": 15,
     "metadata": {},
     "output_type": "execute_result"
    }
   ],
   "source": [
    "import pandas as p\n",
    "d=[['vidhya',23,'cse'],['archana',22,'cse']]\n",
    "f=p.DataFrame(d,columns=['name','age','group'])\n",
    "f"
   ]
  },
  {
   "cell_type": "code",
   "execution_count": 8,
   "metadata": {},
   "outputs": [
    {
     "data": {
      "text/html": [
       "<div>\n",
       "<style scoped>\n",
       "    .dataframe tbody tr th:only-of-type {\n",
       "        vertical-align: middle;\n",
       "    }\n",
       "\n",
       "    .dataframe tbody tr th {\n",
       "        vertical-align: top;\n",
       "    }\n",
       "\n",
       "    .dataframe thead th {\n",
       "        text-align: right;\n",
       "    }\n",
       "</style>\n",
       "<table border=\"1\" class=\"dataframe\">\n",
       "  <thead>\n",
       "    <tr style=\"text-align: right;\">\n",
       "      <th></th>\n",
       "      <th>name</th>\n",
       "      <th>clg</th>\n",
       "      <th>branch</th>\n",
       "    </tr>\n",
       "  </thead>\n",
       "  <tbody>\n",
       "    <tr>\n",
       "      <th>1</th>\n",
       "      <td>vidhya</td>\n",
       "      <td>gec</td>\n",
       "      <td>cse</td>\n",
       "    </tr>\n",
       "    <tr>\n",
       "      <th>2</th>\n",
       "      <td>Anu</td>\n",
       "      <td>gec</td>\n",
       "      <td>civil</td>\n",
       "    </tr>\n",
       "    <tr>\n",
       "      <th>3</th>\n",
       "      <td>Ambika</td>\n",
       "      <td>vrsec</td>\n",
       "      <td>mechanical</td>\n",
       "    </tr>\n",
       "  </tbody>\n",
       "</table>\n",
       "</div>"
      ],
      "text/plain": [
       "     name    clg      branch\n",
       "1  vidhya    gec         cse\n",
       "2     Anu    gec       civil\n",
       "3  Ambika  vrsec  mechanical"
      ]
     },
     "execution_count": 8,
     "metadata": {},
     "output_type": "execute_result"
    }
   ],
   "source": [
    "import pandas as p\n",
    "info={'name':'vidhya','clg':'gec','branch':'cse'}\n",
    "data={'name':'Anu','clg':'gec','branch':'civil'}\n",
    "details={'name':'Ambika','clg':'vrsec','branch':'mechanical'}\n",
    "index=[1,2,3]\n",
    "s=p.DataFrame([info,data,details],index)\n",
    "s\n"
   ]
  },
  {
   "cell_type": "code",
   "execution_count": 9,
   "metadata": {},
   "outputs": [
    {
     "data": {
      "text/plain": [
       "1           cse\n",
       "2         civil\n",
       "3    mechanical\n",
       "Name: branch, dtype: object"
      ]
     },
     "execution_count": 9,
     "metadata": {},
     "output_type": "execute_result"
    }
   ],
   "source": [
    "s.T.iloc[2]"
   ]
  },
  {
   "cell_type": "code",
   "execution_count": 10,
   "metadata": {},
   "outputs": [
    {
     "data": {
      "text/html": [
       "<div>\n",
       "<style scoped>\n",
       "    .dataframe tbody tr th:only-of-type {\n",
       "        vertical-align: middle;\n",
       "    }\n",
       "\n",
       "    .dataframe tbody tr th {\n",
       "        vertical-align: top;\n",
       "    }\n",
       "\n",
       "    .dataframe thead th {\n",
       "        text-align: right;\n",
       "    }\n",
       "</style>\n",
       "<table border=\"1\" class=\"dataframe\">\n",
       "  <thead>\n",
       "    <tr style=\"text-align: right;\">\n",
       "      <th></th>\n",
       "      <th>1</th>\n",
       "      <th>2</th>\n",
       "      <th>3</th>\n",
       "    </tr>\n",
       "  </thead>\n",
       "  <tbody>\n",
       "    <tr>\n",
       "      <th>name</th>\n",
       "      <td>vidhya</td>\n",
       "      <td>Anu</td>\n",
       "      <td>Ambika</td>\n",
       "    </tr>\n",
       "    <tr>\n",
       "      <th>clg</th>\n",
       "      <td>gec</td>\n",
       "      <td>gec</td>\n",
       "      <td>vrsec</td>\n",
       "    </tr>\n",
       "    <tr>\n",
       "      <th>branch</th>\n",
       "      <td>cse</td>\n",
       "      <td>civil</td>\n",
       "      <td>mechanical</td>\n",
       "    </tr>\n",
       "  </tbody>\n",
       "</table>\n",
       "</div>"
      ],
      "text/plain": [
       "             1      2           3\n",
       "name    vidhya    Anu      Ambika\n",
       "clg        gec    gec       vrsec\n",
       "branch     cse  civil  mechanical"
      ]
     },
     "execution_count": 10,
     "metadata": {},
     "output_type": "execute_result"
    }
   ],
   "source": [
    "s.T"
   ]
  },
  {
   "cell_type": "raw",
   "metadata": {},
   "source": [
    "matplotlib\n",
    "   -it is library used to do 2d visualization\n",
    "   -types of graphs\n",
    "   -line graphs"
   ]
  },
  {
   "cell_type": "code",
   "execution_count": 1,
   "metadata": {},
   "outputs": [
    {
     "data": {
      "image/png": "[encoded data removed]",
      "text/plain": [
       "<Figure size 432x288 with 1 Axes>"
      ]
     },
     "metadata": {
      "needs_background": "light"
     },
     "output_type": "display_data"
    }
   ],
   "source": [
    "from matplotlib import pyplot as plt\n",
    "plt.plot([1,2,3,5],[6,7,8,9])\n",
    "plt.show()\n"
   ]
  },
  {
   "cell_type": "code",
   "execution_count": 2,
   "metadata": {
    "scrolled": true
   },
   "outputs": [
    {
     "data": {
      "image/png": "[encoded data removed]",
      "text/plain": [
       "<Figure size 432x288 with 1 Axes>"
      ]
     },
     "metadata": {
      "needs_background": "light"
     },
     "output_type": "display_data"
    }
   ],
   "source": [
    "from matplotlib import pyplot as plt\n",
    "x=[2,7,8,9]\n",
    "y=[10,13,2,6]\n",
    "plt.plot(x,y,color='yellow')\n",
    "plt.show()"
   ]
  },
  {
   "cell_type": "code",
   "execution_count": null,
   "metadata": {},
   "outputs": [],
   "source": []
  }
 ],
 "metadata": {
  "kernelspec": {
   "display_name": "Python 3",
   "language": "python",
   "name": "python3"
  },
  "language_info": {
   "codemirror_mode": {
    "name": "ipython",
    "version": 3
   },
   "file_extension": ".py",
   "mimetype": "text/x-python",
   "name": "python",
   "nbconvert_exporter": "python",
   "pygments_lexer": "ipython3",
   "version": "3.8.5"
  }
 },
 "nbformat": 4,
 "nbformat_minor": 4
}
