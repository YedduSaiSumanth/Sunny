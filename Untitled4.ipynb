{
 "cells": [
  {
   "cell_type": "raw",
   "metadata": {},
   "source": [
    "Numpy\n",
    "   - numerical python or numeric python\n",
    "   - numpy is a programming language that deals with multi dimensional\n",
    "     array and matrices\n",
    "   - especially for matrix multiplication and reshaping\n",
    "   - on top of that numpy is fast,tensorflow and scikit\n",
    "   "
   ]
  },
  {
   "cell_type": "raw",
   "metadata": {},
   "source": [
    "how to install numpy\n",
    "   . numpy is installed in anaconda"
   ]
  },
  {
   "cell_type": "code",
   "execution_count": 1,
   "metadata": {},
   "outputs": [
    {
     "name": "stdout",
     "output_type": "stream",
     "text": [
      "1.19.2\n"
     ]
    }
   ],
   "source": [
    "import numpy as n\n",
    "print(n.__version__)"
   ]
  },
  {
   "cell_type": "code",
   "execution_count": 1,
   "metadata": {},
   "outputs": [
    {
     "name": "stdout",
     "output_type": "stream",
     "text": [
      "[2 4 6 8]\n"
     ]
    }
   ],
   "source": [
    "import numpy as n\n",
    "print(n.array([2,4,6,8]))"
   ]
  },
  {
   "cell_type": "code",
   "execution_count": 2,
   "metadata": {},
   "outputs": [
    {
     "name": "stdout",
     "output_type": "stream",
     "text": [
      "[[2 4 6 8]\n",
      " [1 2 3 4]]\n"
     ]
    }
   ],
   "source": [
    "import numpy as n\n",
    "print(n.array([[2,4,6,8],[1,2,3,4]]))"
   ]
  },
  {
   "cell_type": "code",
   "execution_count": 4,
   "metadata": {},
   "outputs": [
    {
     "name": "stdout",
     "output_type": "stream",
     "text": [
      "[ 5  9 13 17]\n",
      "[1 1 1 1]\n"
     ]
    }
   ],
   "source": [
    "import numpy as n\n",
    "a=n.array([3,5,7,9])\n",
    "b=n.array([2,4,6,8])\n",
    "print(a+b)\n",
    "print(a-b)"
   ]
  },
  {
   "cell_type": "code",
   "execution_count": 6,
   "metadata": {},
   "outputs": [
    {
     "name": "stdout",
     "output_type": "stream",
     "text": [
      "[ 6 20 42 72]\n",
      "[1.5        1.25       1.16666667 1.125     ]\n",
      "[1 1 1 1]\n"
     ]
    }
   ],
   "source": [
    "import numpy as n\n",
    "a=n.array([3,5,7,9])\n",
    "b=n.array([2,4,6,8])\n",
    "print(a*b)\n",
    "print(a/b)\n",
    "print(a%b)"
   ]
  },
  {
   "cell_type": "code",
   "execution_count": 7,
   "metadata": {},
   "outputs": [
    {
     "name": "stdout",
     "output_type": "stream",
     "text": [
      "(2, 4)\n",
      "int32\n"
     ]
    }
   ],
   "source": [
    "import numpy as n\n",
    "a=n.array([[1,2,3,4],[5,6,7,8]])\n",
    "print(n.shape(a))\n",
    "print(a.dtype)"
   ]
  },
  {
   "cell_type": "code",
   "execution_count": 10,
   "metadata": {},
   "outputs": [
    {
     "name": "stdout",
     "output_type": "stream",
     "text": [
      "(2, 4)\n",
      "float64\n"
     ]
    }
   ],
   "source": [
    "import numpy as n\n",
    "b=n.array([[1.1,1.2,1.3,1.4],[2.1,2.2,2.3,2.4]])\n",
    "print(n.shape(b))\n",
    "print(b.dtype)"
   ]
  },
  {
   "cell_type": "code",
   "execution_count": 17,
   "metadata": {},
   "outputs": [
    {
     "name": "stdout",
     "output_type": "stream",
     "text": [
      "[[0 0]\n",
      " [0 0]\n",
      " [0 0]]\n"
     ]
    }
   ],
   "source": [
    "import numpy as n\n",
    "print(n.zeros((3,2),dtype=int))"
   ]
  },
  {
   "cell_type": "code",
   "execution_count": 16,
   "metadata": {},
   "outputs": [
    {
     "name": "stdout",
     "output_type": "stream",
     "text": [
      "[[1 1]\n",
      " [1 1]\n",
      " [1 1]]\n"
     ]
    }
   ],
   "source": [
    "import numpy as n\n",
    "print(n.ones((3,2),dtype=int))"
   ]
  },
  {
   "cell_type": "code",
   "execution_count": 19,
   "metadata": {},
   "outputs": [
    {
     "name": "stdout",
     "output_type": "stream",
     "text": [
      "[[1 2 3 4]\n",
      " [6 7 8 9]]\n",
      "[[1 2]\n",
      " [3 4]\n",
      " [6 7]\n",
      " [8 9]]\n"
     ]
    }
   ],
   "source": [
    "import numpy as n\n",
    "a=n.array([[1,2,3,4],[6,7,8,9]])\n",
    "print(a)\n",
    "print(a.reshape((4,2)))"
   ]
  },
  {
   "cell_type": "code",
   "execution_count": 21,
   "metadata": {},
   "outputs": [
    {
     "name": "stdout",
     "output_type": "stream",
     "text": [
      "[[1 2 3 4]\n",
      " [6 7 8 9]]\n",
      "[1 2 3 4 6 7 8 9]\n"
     ]
    }
   ],
   "source": [
    "import numpy as n\n",
    "a=n.array([[1,2,3,4],[6,7,8,9]])\n",
    "print(a)\n",
    "print(a.flatten())"
   ]
  },
  {
   "cell_type": "code",
   "execution_count": 23,
   "metadata": {},
   "outputs": [
    {
     "name": "stdout",
     "output_type": "stream",
     "text": [
      "[[3]\n",
      " [5]\n",
      " [7]\n",
      " [9]]\n",
      "[3 5 7 9 2 4 6 8]\n"
     ]
    }
   ],
   "source": [
    "import numpy as n\n",
    "a=n.array([3,5,7,9])\n",
    "b=n.array([2,4,6,8])\n",
    "print(n.vstack((a)))\n",
    "print(n.hstack((a,b)))"
   ]
  },
  {
   "cell_type": "code",
   "execution_count": 24,
   "metadata": {},
   "outputs": [
    {
     "data": {
      "text/plain": [
       "2.23606797749979"
      ]
     },
     "execution_count": 24,
     "metadata": {},
     "output_type": "execute_result"
    }
   ],
   "source": [
    "import numpy as n\n",
    "a=n.array([3,5,7,9])\n",
    "a.std()"
   ]
  },
  {
   "cell_type": "code",
   "execution_count": 25,
   "metadata": {},
   "outputs": [
    {
     "name": "stdout",
     "output_type": "stream",
     "text": [
      "6.0\n",
      "6.0\n",
      "3\n"
     ]
    }
   ],
   "source": [
    "import numpy as n\n",
    "a=n.array([3,5,7,9])\n",
    "print(a)\n",
    "print(a.mean())\n",
    "print(n.median(a))\n",
    "print(n.mod(3,5))"
   ]
  },
  {
   "cell_type": "code",
   "execution_count": 26,
   "metadata": {},
   "outputs": [
    {
     "name": "stdout",
     "output_type": "stream",
     "text": [
      "[[21 27 25]\n",
      " [ 9 19 29]\n",
      " [11  1 26]]\n"
     ]
    }
   ],
   "source": [
    "import random\n",
    "import numpy as n\n",
    "d=n.random.randint(1,30,(3,3))\n",
    "print(d)"
   ]
  },
  {
   "cell_type": "code",
   "execution_count": 27,
   "metadata": {},
   "outputs": [
    {
     "data": {
      "text/plain": [
       "array([ 2.36020413, -2.40194634,  8.70408803,  2.65816092,  7.69124353,\n",
       "        5.60142586,  4.03177992,  7.34761952, -5.65312972,  4.33050877])"
      ]
     },
     "execution_count": 27,
     "metadata": {},
     "output_type": "execute_result"
    }
   ],
   "source": [
    "import random\n",
    "import numpy as n\n",
    "n.random.normal(5,4,10)"
   ]
  },
  {
   "cell_type": "code",
   "execution_count": 29,
   "metadata": {},
   "outputs": [
    {
     "name": "stdout",
     "output_type": "stream",
     "text": [
      "[[10 29 23]\n",
      " [ 2 22  3]\n",
      " [ 9 11 26]]\n",
      "the max 29\n",
      "the min 2\n",
      "standard deviation 9.545214042184236\n",
      "mean 6.0\n",
      "median 6.0\n",
      "mod 2\n",
      "[[10  2  9]\n",
      " [29 22 11]\n",
      " [23  3 26]]\n"
     ]
    }
   ],
   "source": [
    "import random\n",
    "import numpy as n\n",
    "d=n.random.randint(1,30,(3,3))\n",
    "print(d)\n",
    "print(\"the max\",d.max())\n",
    "print(\"the min\",d.min())\n",
    "print(\"standard deviation\",d.std())\n",
    "print(\"mean\",a.mean())\n",
    "print(\"median\",n.median(a))\n",
    "print(\"mod\",n.mod(2,3))\n",
    "print(d.transpose())"
   ]
  },
  {
   "cell_type": "code",
   "execution_count": 30,
   "metadata": {},
   "outputs": [
    {
     "name": "stdout",
     "output_type": "stream",
     "text": [
      "[[1 0 0 0]\n",
      " [0 1 0 0]\n",
      " [0 0 1 0]\n",
      " [0 0 0 1]]\n"
     ]
    }
   ],
   "source": [
    "import numpy\n",
    "print(numpy.eye(4,dtype=int))"
   ]
  },
  {
   "cell_type": "code",
   "execution_count": null,
   "metadata": {},
   "outputs": [],
   "source": [
    "import random\n",
    "import numpy as n\n",
    "b=n.array([])\n",
    "d=n.random.randint(1,30,(3,3))\n",
    "print(d)\n",
    "print(b.dot(d))"
   ]
  },
  {
   "cell_type": "code",
   "execution_count": 31,
   "metadata": {},
   "outputs": [
    {
     "data": {
      "text/plain": [
       "array([[  1,   2,   3,   4],\n",
       "       [  1,  16,  81, 256]])"
      ]
     },
     "execution_count": 31,
     "metadata": {},
     "output_type": "execute_result"
    }
   ],
   "source": [
    "d=n.array([1,2,3,4])\n",
    "n.array([d,pow(d,4)])"
   ]
  },
  {
   "cell_type": "code",
   "execution_count": 32,
   "metadata": {},
   "outputs": [
    {
     "name": "stdout",
     "output_type": "stream",
     "text": [
      "[1 1 1 2 2 2 3 3 3 4 4 4]\n"
     ]
    }
   ],
   "source": [
    "a=n.repeat([1,2,3,4],3)\n",
    "print(a)"
   ]
  },
  {
   "cell_type": "code",
   "execution_count": 33,
   "metadata": {},
   "outputs": [
    {
     "name": "stdout",
     "output_type": "stream",
     "text": [
      "[ 1  2  3  4  5  6  7  8  9 10]\n"
     ]
    }
   ],
   "source": [
    "print(n.arange(1,11))"
   ]
  },
  {
   "cell_type": "code",
   "execution_count": 34,
   "metadata": {},
   "outputs": [
    {
     "data": {
      "text/plain": [
       "array([1.        , 1.44444444, 1.88888889, 2.33333333, 2.77777778,\n",
       "       3.22222222, 3.66666667, 4.11111111, 4.55555556, 5.        ])"
      ]
     },
     "execution_count": 34,
     "metadata": {},
     "output_type": "execute_result"
    }
   ],
   "source": [
    "n.linspace(1,5,num=10)"
   ]
  },
  {
   "cell_type": "code",
   "execution_count": 35,
   "metadata": {},
   "outputs": [
    {
     "data": {
      "text/plain": [
       "array([1.        , 1.08163265, 1.16326531, 1.24489796, 1.32653061,\n",
       "       1.40816327, 1.48979592, 1.57142857, 1.65306122, 1.73469388,\n",
       "       1.81632653, 1.89795918, 1.97959184, 2.06122449, 2.14285714,\n",
       "       2.2244898 , 2.30612245, 2.3877551 , 2.46938776, 2.55102041,\n",
       "       2.63265306, 2.71428571, 2.79591837, 2.87755102, 2.95918367,\n",
       "       3.04081633, 3.12244898, 3.20408163, 3.28571429, 3.36734694,\n",
       "       3.44897959, 3.53061224, 3.6122449 , 3.69387755, 3.7755102 ,\n",
       "       3.85714286, 3.93877551, 4.02040816, 4.10204082, 4.18367347,\n",
       "       4.26530612, 4.34693878, 4.42857143, 4.51020408, 4.59183673,\n",
       "       4.67346939, 4.75510204, 4.83673469, 4.91836735, 5.        ])"
      ]
     },
     "execution_count": 35,
     "metadata": {},
     "output_type": "execute_result"
    }
   ],
   "source": [
    "n.linspace(1,5)"
   ]
  },
  {
   "cell_type": "code",
   "execution_count": 39,
   "metadata": {},
   "outputs": [
    {
     "name": "stdout",
     "output_type": "stream",
     "text": [
      "[[1 2 3]\n",
      " [4 5 6]]\n",
      "[2 5]\n"
     ]
    }
   ],
   "source": [
    "import numpy as n\n",
    "x=n.array([[1,2,3],[4,5,6]])\n",
    "print(x)\n",
    "#print(x[0])\n",
    "#print(x[1])\n",
    "print(x[:,1])"
   ]
  },
  {
   "cell_type": "code",
   "execution_count": null,
   "metadata": {},
   "outputs": [],
   "source": []
  }
 ],
 "metadata": {
  "kernelspec": {
   "display_name": "Python 3",
   "language": "python",
   "name": "python3"
  },
  "language_info": {
   "codemirror_mode": {
    "name": "ipython",
    "version": 3
   },
   "file_extension": ".py",
   "mimetype": "text/x-python",
   "name": "python",
   "nbconvert_exporter": "python",
   "pygments_lexer": "ipython3",
   "version": "3.8.5"
  }
 },
 "nbformat": 4,
 "nbformat_minor": 4
}
